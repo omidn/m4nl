{
 "cells": [
  {
   "cell_type": "code",
   "execution_count": 31,
   "metadata": {},
   "outputs": [],
   "source": [
    "from utils import load_data, path, separate\n",
    "from sklearn.linear_model import LinearRegression\n",
    "import pandas as pd\n",
    "import numpy as np\n",
    "import warnings\n",
    "import matplotlib.pyplot as plt\n",
    "from sklearn.model_selection import KFold\n",
    "\n",
    "warnings.filterwarnings('ignore')\n",
    "training = load_data('../../data/training.csv')\n",
    "validation = load_data('../../data/validation.csv')\n",
    "trainX, trainY = separate(training)\n",
    "testX, testY = separate(validation)"
   ]
  },
  {
   "cell_type": "code",
   "execution_count": 75,
   "metadata": {},
   "outputs": [],
   "source": [
    "model = LinearRegression().fit(trainX, trainY)"
   ]
  },
  {
   "cell_type": "code",
   "execution_count": 19,
   "metadata": {},
   "outputs": [],
   "source": [
    "# Mean Squared Error\n",
    "def MSE(y_predicted, y):\n",
    "    squared_error = (y_predicted - y) ** 2\n",
    "    sum_squared_error = np.sum(squared_error)\n",
    "    mse = sum_squared_error / y.size\n",
    "    return (mse)"
   ]
  },
  {
   "cell_type": "markdown",
   "metadata": {},
   "source": [
    "pred_train = model.predict(trainX)\n",
    "pred_test = model.predict(testX)\n",
    "error_train = MSE(pred_train, trainY)\n",
    "error_test = MSE(pred_test, testY)\n",
    "print (error_train, error_test)"
   ]
  },
  {
   "cell_type": "code",
   "execution_count": 28,
   "metadata": {
    "scrolled": true
   },
   "outputs": [
    {
     "data": {
      "text/plain": [
       "array([[ 1.31699010e+01,  1.06535677e+00, -7.56934932e-02,\n",
       "        -6.21769066e+00,  2.80446097e-01,  3.45896357e-06,\n",
       "         1.11554654e+00],\n",
       "       [ 9.34759451e-01, -7.90613506e-06, -4.89978560e-06,\n",
       "         4.95665788e-04, -1.32541245e-04, -1.25815977e-09,\n",
       "         2.39025329e-03]])"
      ]
     },
     "execution_count": 28,
     "metadata": {},
     "output_type": "execute_result"
    }
   ],
   "source": [
    "model.coef_"
   ]
  },
  {
   "cell_type": "code",
   "execution_count": 51,
   "metadata": {},
   "outputs": [],
   "source": [
    "def train(nfold):\n",
    "    kf = KFold(n_splits=nfold)\n",
    "    coef = []\n",
    "    intercept = []\n",
    "    error_train = []\n",
    "    error_test = []\n",
    "\n",
    "    for train_index, test_index in kf.split(trainX):\n",
    "        X_train, X_test = trainX[train_index], trainX[test_index]\n",
    "        y_train, y_test = trainY[train_index], trainY[test_index]\n",
    "        model = LinearRegression().fit(X_train, y_train)\n",
    "\n",
    "        intercept.append(model.intercept_)\n",
    "        coef.append(model.coef_)\n",
    "\n",
    "        pred_train = model.predict(X_train)\n",
    "        pred_test = model.predict(X_test)\n",
    "        error_train.append(MSE(pred_train, y_train))\n",
    "        error_test.append(MSE(pred_test, y_test))\n",
    "\n",
    "    return (np.mean(error_train), np.mean(error_test), np.mean(intercept, axis=0), np.mean(coef, axis=0))\n",
    "    "
   ]
  },
  {
   "cell_type": "code",
   "execution_count": 74,
   "metadata": {},
   "outputs": [
    {
     "data": {
      "text/plain": [
       "[<matplotlib.lines.Line2D at 0x7fd69c314c50>]"
      ]
     },
     "execution_count": 74,
     "metadata": {},
     "output_type": "execute_result"
    },
    {
     "data": {
      "image/png": "[encoded data removed]",
      "text/plain": [
       "<Figure size 432x288 with 1 Axes>"
      ]
     },
     "metadata": {
      "needs_background": "light"
     },
     "output_type": "display_data"
    }
   ],
   "source": [
    "# try different k-fold cross validations\n",
    "errors = []\n",
    "folds = range(2, 10)\n",
    "for i in folds:\n",
    "    error_train, error_test, intercept, coef = train(i)\n",
    "    errors.append([error_train, error_test])\n",
    "    \n",
    "errors = np.array(errors)\n",
    "plt.plot(folds,  errors[:,[1]])\n",
    "plt.plot(folds, errors[:,[0]])"
   ]
  }
 ],
 "metadata": {
  "kernelspec": {
   "display_name": "Python 3",
   "language": "python",
   "name": "python3"
  },
  "language_info": {
   "codemirror_mode": {
    "name": "ipython",
    "version": 3
   },
   "file_extension": ".py",
   "mimetype": "text/x-python",
   "name": "python",
   "nbconvert_exporter": "python",
   "pygments_lexer": "ipython3",
   "version": "3.6.7"
  }
 },
 "nbformat": 4,
 "nbformat_minor": 2
}
