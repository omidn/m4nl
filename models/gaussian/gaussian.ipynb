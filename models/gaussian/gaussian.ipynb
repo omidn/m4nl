{
 "cells": [
  {
   "cell_type": "code",
   "execution_count": 2,
   "metadata": {},
   "outputs": [],
   "source": [
    "import numpy as np\n",
    "import pandas as pa\n",
    "from scipy.spatial import distance\n",
    "import scipy\n",
    "from sklearn import preprocessing"
   ]
  },
  {
   "cell_type": "code",
   "execution_count": 7,
   "metadata": {},
   "outputs": [],
   "source": [
    "train = np.genfromtxt('../../data/train.csv', delimiter=',')\n",
    "test =  np.genfromtxt('../../data/test.csv', delimiter=',')"
   ]
  },
  {
   "cell_type": "code",
   "execution_count": 5,
   "metadata": {
    "scrolled": true
   },
   "outputs": [],
   "source": [
    "def select_x_and_target(set):\n",
    "    return set[:, 0:7], set[:,7:9]\n",
    "\n",
    "def kernel(first, second):\n",
    "    sq_norm = -0.5 * distance.cdist(first, second, 'euclidean')\n",
    "    return np.exp(sq_norm)"
   ]
  },
  {
   "cell_type": "code",
   "execution_count": 8,
   "metadata": {},
   "outputs": [],
   "source": [
    "trainX, trainY = select_x_and_target(train)\n",
    "testX, testY = select_x_and_target(test)"
   ]
  },
  {
   "cell_type": "code",
   "execution_count": 9,
   "metadata": {},
   "outputs": [],
   "source": [
    "def GP(X1, y1, X2, kernel_func):\n",
    "    k11 = kernel_func(X1, X1)\n",
    "    k12 = kernel_func(X1, X2)\n",
    "    k22 = kernel_func(X2, X2)\n",
    "    \n",
    "    L = scipy.linalg.solve(k11, k12, assume_a='pos').T\n",
    "    m2 = np.dot(L, y1)\n",
    "    k2 = k22 - np.dot(L, k12)\n",
    "    \n",
    "    return m2, k2"
   ]
  },
  {
   "cell_type": "code",
   "execution_count": 194,
   "metadata": {},
   "outputs": [
    {
     "data": {
      "text/plain": [
       "(212, 212)"
      ]
     },
     "execution_count": 194,
     "metadata": {},
     "output_type": "execute_result"
    }
   ],
   "source": [
    "m, c = GP(trainX, trainY, testX, kernel)\n",
    "# ys = np.random.multivariate_normal(mean=m, cov=c)\n",
    "c.shape"
   ]
  },
  {
   "cell_type": "code",
   "execution_count": 193,
   "metadata": {},
   "outputs": [
    {
     "data": {
      "text/plain": [
       "(212, 2)"
      ]
     },
     "execution_count": 193,
     "metadata": {},
     "output_type": "execute_result"
    }
   ],
   "source": [
    "m.shape"
   ]
  }
 ],
 "metadata": {
  "kernelspec": {
   "display_name": "Python 2",
   "language": "python",
   "name": "python2"
  },
  "language_info": {
   "codemirror_mode": {
    "name": "ipython",
    "version": 2
   },
   "file_extension": ".py",
   "mimetype": "text/x-python",
   "name": "python",
   "nbconvert_exporter": "python",
   "pygments_lexer": "ipython2",
   "version": "2.7.16"
  }
 },
 "nbformat": 4,
 "nbformat_minor": 2
}
